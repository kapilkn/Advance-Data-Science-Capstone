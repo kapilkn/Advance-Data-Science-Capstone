{
  "nbformat": 4,
  "nbformat_minor": 0,
  "metadata": {
    "colab": {
      "name": "ML Feature Reduction.ipynb",
      "provenance": [],
      "authorship_tag": "ABX9TyN0nTzyHXx0C7j5ZDjEwv+2",
      "include_colab_link": true
    },
    "kernelspec": {
      "name": "python3",
      "display_name": "Python 3"
    }
  },
  "cells": [
    {
      "cell_type": "markdown",
      "metadata": {
        "id": "view-in-github",
        "colab_type": "text"
      },
      "source": [
        "<a href=\"https://colab.research.google.com/github/kapilkn/Advance-Data-Science-Capstone/blob/master/ML_Feature_Reduction.ipynb\" target=\"_parent\"><img src=\"https://colab.research.google.com/assets/colab-badge.svg\" alt=\"Open In Colab\"/></a>"
      ]
    },
    {
      "cell_type": "code",
      "metadata": {
        "id": "CP8zO32vaoLT",
        "colab_type": "code",
        "colab": {}
      },
      "source": [
        "import pandas as pd\n",
        "import numpy as np\n",
        "import matplotlib.pyplot as plt\n",
        "from pandas.plotting import scatter_matrix\n",
        "%matplotlib inline"
      ],
      "execution_count": 0,
      "outputs": []
    },
    {
      "cell_type": "code",
      "metadata": {
        "id": "s9IZ6_xvbBhm",
        "colab_type": "code",
        "colab": {}
      },
      "source": [
        "from sklearn.datasets import load_iris"
      ],
      "execution_count": 0,
      "outputs": []
    },
    {
      "cell_type": "code",
      "metadata": {
        "id": "bU3Sk9aZbLnE",
        "colab_type": "code",
        "colab": {}
      },
      "source": [
        "data = load_iris()"
      ],
      "execution_count": 0,
      "outputs": []
    },
    {
      "cell_type": "code",
      "metadata": {
        "id": "AoKQR_EbbSt7",
        "colab_type": "code",
        "colab": {}
      },
      "source": [
        "x = data.data\n",
        "y = data.target"
      ],
      "execution_count": 0,
      "outputs": []
    },
    {
      "cell_type": "code",
      "metadata": {
        "id": "6vGZM0kUbdgE",
        "colab_type": "code",
        "colab": {}
      },
      "source": [
        "from sklearn.model_selection import train_test_split\n",
        "xtrain, xtest,ytrain,ytest =train_test_split(x,y,test_size=0.2,random_state=1)"
      ],
      "execution_count": 0,
      "outputs": []
    },
    {
      "cell_type": "code",
      "metadata": {
        "id": "8xmrLySVcOOz",
        "colab_type": "code",
        "colab": {
          "base_uri": "https://localhost:8080/",
          "height": 33
        },
        "outputId": "79eb560b-ff92-4062-f93c-6ce8663e0964"
      },
      "source": [
        "print(xtrain.shape)"
      ],
      "execution_count": 6,
      "outputs": [
        {
          "output_type": "stream",
          "text": [
            "(120, 4)\n"
          ],
          "name": "stdout"
        }
      ]
    },
    {
      "cell_type": "code",
      "metadata": {
        "id": "w3SiOQlicWpU",
        "colab_type": "code",
        "colab": {}
      },
      "source": [
        "from sklearn.linear_model import LogisticRegression"
      ],
      "execution_count": 0,
      "outputs": []
    },
    {
      "cell_type": "code",
      "metadata": {
        "id": "PbrQvup8cf68",
        "colab_type": "code",
        "colab": {}
      },
      "source": [
        "lr = LogisticRegression()"
      ],
      "execution_count": 0,
      "outputs": []
    },
    {
      "cell_type": "code",
      "metadata": {
        "id": "MgF1ZLGeciwi",
        "colab_type": "code",
        "colab": {
          "base_uri": "https://localhost:8080/",
          "height": 255
        },
        "outputId": "f4c778af-96d9-4b4e-f8e5-86fffb441de5"
      },
      "source": [
        "lr.fit(xtrain,ytrain)"
      ],
      "execution_count": 9,
      "outputs": [
        {
          "output_type": "stream",
          "text": [
            "/usr/local/lib/python3.6/dist-packages/sklearn/linear_model/_logistic.py:940: ConvergenceWarning: lbfgs failed to converge (status=1):\n",
            "STOP: TOTAL NO. of ITERATIONS REACHED LIMIT.\n",
            "\n",
            "Increase the number of iterations (max_iter) or scale the data as shown in:\n",
            "    https://scikit-learn.org/stable/modules/preprocessing.html\n",
            "Please also refer to the documentation for alternative solver options:\n",
            "    https://scikit-learn.org/stable/modules/linear_model.html#logistic-regression\n",
            "  extra_warning_msg=_LOGISTIC_SOLVER_CONVERGENCE_MSG)\n"
          ],
          "name": "stderr"
        },
        {
          "output_type": "execute_result",
          "data": {
            "text/plain": [
              "LogisticRegression(C=1.0, class_weight=None, dual=False, fit_intercept=True,\n",
              "                   intercept_scaling=1, l1_ratio=None, max_iter=100,\n",
              "                   multi_class='auto', n_jobs=None, penalty='l2',\n",
              "                   random_state=None, solver='lbfgs', tol=0.0001, verbose=0,\n",
              "                   warm_start=False)"
            ]
          },
          "metadata": {
            "tags": []
          },
          "execution_count": 9
        }
      ]
    },
    {
      "cell_type": "code",
      "metadata": {
        "id": "uPXdfTttcmy0",
        "colab_type": "code",
        "colab": {}
      },
      "source": [
        "ypredict = lr.predict(xtest)"
      ],
      "execution_count": 0,
      "outputs": []
    },
    {
      "cell_type": "code",
      "metadata": {
        "id": "956MnRXyct-4",
        "colab_type": "code",
        "colab": {}
      },
      "source": [
        "from sklearn.metrics import accuracy_score"
      ],
      "execution_count": 0,
      "outputs": []
    },
    {
      "cell_type": "code",
      "metadata": {
        "id": "LMmfT86Wc1jT",
        "colab_type": "code",
        "colab": {}
      },
      "source": [
        "accuracy = accuracy_score(ypredict,ytest)"
      ],
      "execution_count": 0,
      "outputs": []
    },
    {
      "cell_type": "code",
      "metadata": {
        "id": "MHdXavLEdO9G",
        "colab_type": "code",
        "colab": {
          "base_uri": "https://localhost:8080/",
          "height": 33
        },
        "outputId": "1f4dd632-98f2-4c65-cfc9-11892502f7ed"
      },
      "source": [
        "print(accuracy)"
      ],
      "execution_count": 13,
      "outputs": [
        {
          "output_type": "stream",
          "text": [
            "0.9666666666666667\n"
          ],
          "name": "stdout"
        }
      ]
    },
    {
      "cell_type": "code",
      "metadata": {
        "id": "-FIxAhnLdSWs",
        "colab_type": "code",
        "colab": {}
      },
      "source": [
        "from sklearn.decomposition import PCA"
      ],
      "execution_count": 0,
      "outputs": []
    },
    {
      "cell_type": "code",
      "metadata": {
        "id": "2LdC3iD6dZy-",
        "colab_type": "code",
        "colab": {}
      },
      "source": [
        "lpca = PCA(n_components=0.95)"
      ],
      "execution_count": 0,
      "outputs": []
    },
    {
      "cell_type": "code",
      "metadata": {
        "id": "1h-iBiPZdsRF",
        "colab_type": "code",
        "colab": {
          "base_uri": "https://localhost:8080/",
          "height": 50
        },
        "outputId": "dd9c83a6-b7dc-4abe-8c65-284e45fe7257"
      },
      "source": [
        "lpca.fit(xtrain)"
      ],
      "execution_count": 16,
      "outputs": [
        {
          "output_type": "execute_result",
          "data": {
            "text/plain": [
              "PCA(copy=True, iterated_power='auto', n_components=0.95, random_state=None,\n",
              "    svd_solver='auto', tol=0.0, whiten=False)"
            ]
          },
          "metadata": {
            "tags": []
          },
          "execution_count": 16
        }
      ]
    },
    {
      "cell_type": "code",
      "metadata": {
        "id": "PRq3NOvydx19",
        "colab_type": "code",
        "colab": {}
      },
      "source": [
        "xtraintransform = lpca.transform(xtrain)"
      ],
      "execution_count": 0,
      "outputs": []
    },
    {
      "cell_type": "code",
      "metadata": {
        "id": "0g6ancJFd8gd",
        "colab_type": "code",
        "colab": {
          "base_uri": "https://localhost:8080/",
          "height": 33
        },
        "outputId": "9c9fe2f2-c77f-4ed8-eef5-409a85be6304"
      },
      "source": [
        "print(xtraintransform.shape) # new"
      ],
      "execution_count": 18,
      "outputs": [
        {
          "output_type": "stream",
          "text": [
            "(120, 2)\n"
          ],
          "name": "stdout"
        }
      ]
    },
    {
      "cell_type": "code",
      "metadata": {
        "id": "gVYjQv83eCo_",
        "colab_type": "code",
        "colab": {
          "base_uri": "https://localhost:8080/",
          "height": 33
        },
        "outputId": "e89436e7-b3a0-4eb9-f589-9ce0dad18c0c"
      },
      "source": [
        "print(xtrain.shape) # Old"
      ],
      "execution_count": 19,
      "outputs": [
        {
          "output_type": "stream",
          "text": [
            "(120, 4)\n"
          ],
          "name": "stdout"
        }
      ]
    },
    {
      "cell_type": "code",
      "metadata": {
        "id": "95jciMAveGZ8",
        "colab_type": "code",
        "colab": {}
      },
      "source": [
        "xtesttransform = lpca.transform(xtest)"
      ],
      "execution_count": 0,
      "outputs": []
    },
    {
      "cell_type": "code",
      "metadata": {
        "id": "OqgfXLVGebKq",
        "colab_type": "code",
        "colab": {
          "base_uri": "https://localhost:8080/",
          "height": 33
        },
        "outputId": "e899d231-5489-4bce-9dfe-cdc3927ed1e4"
      },
      "source": [
        "print(xtest.shape) # old"
      ],
      "execution_count": 21,
      "outputs": [
        {
          "output_type": "stream",
          "text": [
            "(30, 4)\n"
          ],
          "name": "stdout"
        }
      ]
    },
    {
      "cell_type": "code",
      "metadata": {
        "id": "9MOJihXGeVQh",
        "colab_type": "code",
        "colab": {
          "base_uri": "https://localhost:8080/",
          "height": 33
        },
        "outputId": "25a6e3b4-bd8b-44be-9a53-4e6e8d7c4b54"
      },
      "source": [
        "print(xtesttransform.shape) # new"
      ],
      "execution_count": 22,
      "outputs": [
        {
          "output_type": "stream",
          "text": [
            "(30, 2)\n"
          ],
          "name": "stdout"
        }
      ]
    },
    {
      "cell_type": "code",
      "metadata": {
        "id": "bHLQAEigeYTy",
        "colab_type": "code",
        "colab": {
          "base_uri": "https://localhost:8080/",
          "height": 520
        },
        "outputId": "db252e9b-28f1-45f6-a068-03781bbd0279"
      },
      "source": [
        "xtest"
      ],
      "execution_count": 23,
      "outputs": [
        {
          "output_type": "execute_result",
          "data": {
            "text/plain": [
              "array([[5.8, 4. , 1.2, 0.2],\n",
              "       [5.1, 2.5, 3. , 1.1],\n",
              "       [6.6, 3. , 4.4, 1.4],\n",
              "       [5.4, 3.9, 1.3, 0.4],\n",
              "       [7.9, 3.8, 6.4, 2. ],\n",
              "       [6.3, 3.3, 4.7, 1.6],\n",
              "       [6.9, 3.1, 5.1, 2.3],\n",
              "       [5.1, 3.8, 1.9, 0.4],\n",
              "       [4.7, 3.2, 1.6, 0.2],\n",
              "       [6.9, 3.2, 5.7, 2.3],\n",
              "       [5.6, 2.7, 4.2, 1.3],\n",
              "       [5.4, 3.9, 1.7, 0.4],\n",
              "       [7.1, 3. , 5.9, 2.1],\n",
              "       [6.4, 3.2, 4.5, 1.5],\n",
              "       [6. , 2.9, 4.5, 1.5],\n",
              "       [4.4, 3.2, 1.3, 0.2],\n",
              "       [5.8, 2.6, 4. , 1.2],\n",
              "       [5.6, 3. , 4.5, 1.5],\n",
              "       [5.4, 3.4, 1.5, 0.4],\n",
              "       [5. , 3.2, 1.2, 0.2],\n",
              "       [5.5, 2.6, 4.4, 1.2],\n",
              "       [5.4, 3. , 4.5, 1.5],\n",
              "       [6.7, 3. , 5. , 1.7],\n",
              "       [5. , 3.5, 1.3, 0.3],\n",
              "       [7.2, 3.2, 6. , 1.8],\n",
              "       [5.7, 2.8, 4.1, 1.3],\n",
              "       [5.5, 4.2, 1.4, 0.2],\n",
              "       [5.1, 3.8, 1.5, 0.3],\n",
              "       [6.1, 2.8, 4.7, 1.2],\n",
              "       [6.3, 2.5, 5. , 1.9]])"
            ]
          },
          "metadata": {
            "tags": []
          },
          "execution_count": 23
        }
      ]
    },
    {
      "cell_type": "code",
      "metadata": {
        "id": "TfIx0P3Weky5",
        "colab_type": "code",
        "colab": {
          "base_uri": "https://localhost:8080/",
          "height": 520
        },
        "outputId": "63cc3858-e471-46ac-b544-ea76d4b83b06"
      },
      "source": [
        "xtesttransform"
      ],
      "execution_count": 24,
      "outputs": [
        {
          "output_type": "execute_result",
          "data": {
            "text/plain": [
              "array([[-2.68738967,  1.24153895],\n",
              "       [-0.96538559, -0.70916231],\n",
              "       [ 0.84875981,  0.36063236],\n",
              "       [-2.667761  ,  0.87375109],\n",
              "       [ 3.18881499,  1.39096721],\n",
              "       [ 1.04563026,  0.31741614],\n",
              "       [ 1.87475727,  0.42737639],\n",
              "       [-2.25684139,  0.50141011],\n",
              "       [-2.68626909, -0.12972275],\n",
              "       [ 2.37996557,  0.39664779],\n",
              "       [ 0.29972026, -0.46441361],\n",
              "       [-2.32593534,  0.80416676],\n",
              "       [ 2.56639731,  0.3617593 ],\n",
              "       [ 0.88247689,  0.35216014],\n",
              "       [ 0.7592687 , -0.12787235],\n",
              "       [-3.05198739, -0.2718511 ],\n",
              "       [ 0.17301658, -0.3648974 ],\n",
              "       [ 0.60593977, -0.31331324],\n",
              "       [-2.45919725,  0.47071942],\n",
              "       [-2.91874569,  0.13417817],\n",
              "       [ 0.40549318, -0.62879833],\n",
              "       [ 0.5330404 , -0.44285763],\n",
              "       [ 1.50660921,  0.29454543],\n",
              "       [-2.81965942,  0.32889825],\n",
              "       [ 2.56458182,  0.58291385],\n",
              "       [ 0.24318335, -0.30859743],\n",
              "       [-2.64088627,  1.159726  ],\n",
              "       [-2.63488745,  0.57982198],\n",
              "       [ 0.86550017, -0.14505759],\n",
              "       [ 1.4709022 , -0.35043795]])"
            ]
          },
          "metadata": {
            "tags": []
          },
          "execution_count": 24
        }
      ]
    },
    {
      "cell_type": "code",
      "metadata": {
        "id": "LUys6KNGesAc",
        "colab_type": "code",
        "colab": {}
      },
      "source": [
        "lr = LogisticRegression(penalty='l2')"
      ],
      "execution_count": 0,
      "outputs": []
    },
    {
      "cell_type": "code",
      "metadata": {
        "id": "gHACZPuPfCF-",
        "colab_type": "code",
        "colab": {
          "base_uri": "https://localhost:8080/",
          "height": 100
        },
        "outputId": "661af643-8a59-4336-f979-2096f4f2e956"
      },
      "source": [
        "lr.fit(xtraintransform,ytrain)"
      ],
      "execution_count": 28,
      "outputs": [
        {
          "output_type": "execute_result",
          "data": {
            "text/plain": [
              "LogisticRegression(C=1.0, class_weight=None, dual=False, fit_intercept=True,\n",
              "                   intercept_scaling=1, l1_ratio=None, max_iter=100,\n",
              "                   multi_class='auto', n_jobs=None, penalty='l2',\n",
              "                   random_state=None, solver='lbfgs', tol=0.0001, verbose=0,\n",
              "                   warm_start=False)"
            ]
          },
          "metadata": {
            "tags": []
          },
          "execution_count": 28
        }
      ]
    },
    {
      "cell_type": "code",
      "metadata": {
        "id": "m6KcFaPafMB1",
        "colab_type": "code",
        "colab": {}
      },
      "source": [
        "ypredict = lr.predict(xtesttransform)"
      ],
      "execution_count": 0,
      "outputs": []
    },
    {
      "cell_type": "code",
      "metadata": {
        "id": "AlNukmspfgyW",
        "colab_type": "code",
        "colab": {}
      },
      "source": [
        "from sklearn.metrics import accuracy_score"
      ],
      "execution_count": 0,
      "outputs": []
    },
    {
      "cell_type": "code",
      "metadata": {
        "id": "bNc3cbpPfqDk",
        "colab_type": "code",
        "colab": {
          "base_uri": "https://localhost:8080/",
          "height": 33
        },
        "outputId": "b8c495b4-10fa-4015-e0e6-d4bba134cb86"
      },
      "source": [
        "acuracy =accuracy_score(ypredict,ytest)\n",
        "print(accuracy)"
      ],
      "execution_count": 31,
      "outputs": [
        {
          "output_type": "stream",
          "text": [
            "0.9666666666666667\n"
          ],
          "name": "stdout"
        }
      ]
    },
    {
      "cell_type": "code",
      "metadata": {
        "id": "YSNl4MZMfsho",
        "colab_type": "code",
        "colab": {}
      },
      "source": [
        ""
      ],
      "execution_count": 0,
      "outputs": []
    }
  ]
}